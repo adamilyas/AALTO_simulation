{
 "cells": [
  {
   "cell_type": "markdown",
   "metadata": {},
   "source": [
    "### Huffman tree to generate discrete rv:s\n",
    "\n",
    "Store the distribution in a Huffman tree, so that the most probable candidates\n",
    "have the **shortest path**\n",
    "\n",
    "Huffman tree is created with the following algorithm:\n",
    "- Create an ordered list of nodes. \n",
    "- The elements in the list represent values of the rv and are ordered by probability in ascending order $[v1, v2, v3.. ]$\n",
    "\n",
    "steps:\n",
    "- Take the first two items from the list (two smallest probabilities)\n",
    "- create a parent node for them \n",
    "- smaller child is on the left.\n",
    "- larger child is on the right.\n",
    "- Probability of the new node will be the sum of the children.\n",
    "- Repeat the previous step until the list has only one element, which is the root of the tree"
   ]
  },
  {
   "cell_type": "code",
   "execution_count": 4,
   "metadata": {},
   "outputs": [],
   "source": [
    "# example\n",
    "#tuple: (prob, value) ordered by prob \n",
    "ls = [(0.1, 1), (0.15, 4), (0.20, 3), (0.25, 5), (0.30, 2)]\n",
    "\n",
    "class HuffmanNode(object):\n",
    "    def __init__(self, prob=None, value=None, left=None, right=None):\n",
    "        self.prob = prob\n",
    "        self.value = value\n",
    "        self.left = left\n",
    "        self.right = right\n",
    "    \n",
    "    def fromChildren(left, right):\n",
    "        \"\"\"\n",
    "        input: 2 HuffmanNode\n",
    "        \"\"\"\n",
    "        if right.prob < left.prob:\n",
    "            # switch position\n",
    "            left, right = right, left \n",
    "            \n",
    "        cum_prob = left.prob + right.prob  \n",
    "        return HuffmanNode(prob=cum_prob, left=left, right=right)\n",
    "\n",
    "    def info(self):\n",
    "        print(f'p: {self.prob} v: {self.value}')"
   ]
  },
  {
   "cell_type": "code",
   "execution_count": 5,
   "metadata": {},
   "outputs": [
    {
     "name": "stdout",
     "output_type": "stream",
     "text": [
      "p: 0.1 v: 1\n",
      "p: 0.15 v: 4\n",
      "p: 0.2 v: 3\n",
      "p: 0.25 v: 5\n",
      "p: 0.3 v: 2\n",
      "p: 0.2 v: 3\n",
      "p: 0.25 v: None\n",
      "p: 0.25 v: 5\n",
      "p: 0.3 v: 2\n",
      "p: 0.25 v: 5\n",
      "p: 0.3 v: 2\n",
      "p: 0.45 v: None\n",
      "p: 0.45 v: None\n",
      "p: 0.55 v: None\n"
     ]
    }
   ],
   "source": [
    "#tuple: (prob, value) ordered by prob \n",
    "ls = [(0.1, 1), (0.15, 4), (0.20, 3), (0.25, 5), (0.30, 2)]\n",
    "node_list = [HuffmanNode(*pair) for pair in ls]\n",
    "\n",
    "while len(node_list) > 0:\n",
    "    [n.info() for n in node_list]\n",
    "    smallerLeft = node_list.pop(0) # return and remove index\n",
    "    biggerRight = node_list.pop(0)\n",
    "    parentNode = HuffmanNode.fromChildren(smallerLeft, biggerRight)\n",
    "    \n",
    "    current_length = len(node_list)\n",
    "    if current_length == 0:\n",
    "        break\n",
    "        \n",
    "    for i in range(current_length):\n",
    "        if node_list[i].prob >= parentNode.prob:\n",
    "            node_list.insert(i, parentNode)\n",
    "            break\n",
    "        elif i == current_length - 1:\n",
    "            node_list.insert(i+1, parentNode)"
   ]
  },
  {
   "cell_type": "code",
   "execution_count": 11,
   "metadata": {},
   "outputs": [],
   "source": [
    "def walk(tree, _i=0):\n",
    "    print(f'\\nLevel: {_i}')\n",
    "    tree.info()\n",
    "    if tree.left != None:\n",
    "        walk(tree.left, _i+1)\n",
    "    if tree.right != None:\n",
    "        walk(tree.right, _i+1)"
   ]
  },
  {
   "cell_type": "code",
   "execution_count": 12,
   "metadata": {},
   "outputs": [
    {
     "name": "stdout",
     "output_type": "stream",
     "text": [
      "\n",
      "Level: 0\n",
      "p: 1.0 v: None\n",
      "\n",
      "Level: 1\n",
      "p: 0.45 v: None\n",
      "\n",
      "Level: 2\n",
      "p: 0.2 v: 3\n",
      "\n",
      "Level: 2\n",
      "p: 0.25 v: None\n",
      "\n",
      "Level: 3\n",
      "p: 0.1 v: 1\n",
      "\n",
      "Level: 3\n",
      "p: 0.15 v: 4\n",
      "\n",
      "Level: 1\n",
      "p: 0.55 v: None\n",
      "\n",
      "Level: 2\n",
      "p: 0.25 v: 5\n",
      "\n",
      "Level: 2\n",
      "p: 0.3 v: 2\n"
     ]
    }
   ],
   "source": [
    "walk(parentNode)"
   ]
  },
  {
   "cell_type": "code",
   "execution_count": null,
   "metadata": {},
   "outputs": [],
   "source": []
  }
 ],
 "metadata": {
  "kernelspec": {
   "display_name": "Python 3",
   "language": "python",
   "name": "python3"
  },
  "language_info": {
   "codemirror_mode": {
    "name": "ipython",
    "version": 3
   },
   "file_extension": ".py",
   "mimetype": "text/x-python",
   "name": "python",
   "nbconvert_exporter": "python",
   "pygments_lexer": "ipython3",
   "version": "3.6.5"
  }
 },
 "nbformat": 4,
 "nbformat_minor": 2
}
