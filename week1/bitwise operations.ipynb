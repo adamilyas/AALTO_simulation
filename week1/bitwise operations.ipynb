{
 "cells": [
  {
   "cell_type": "markdown",
   "metadata": {},
   "source": [
    "### ! before starting on Mersenne-twister generator\n",
    "\n",
    "learn about bit wise operators"
   ]
  },
  {
   "cell_type": "code",
   "execution_count": 1,
   "metadata": {},
   "outputs": [
    {
     "name": "stdout",
     "output_type": "stream",
     "text": [
      "60 -> 0b111100\n",
      "13 -> 0b1101\n",
      "0 -> 0b0\n"
     ]
    }
   ],
   "source": [
    "a = 60            # 60 = 0011 1100 \n",
    "b = 13            # 13 = 0000 1101 \n",
    "c = 0\n",
    "\n",
    "print(f'{a} -> {bin(a)}')\n",
    "print(f'{b} -> {bin(b)}')\n",
    "print(f'{c} -> {bin(c)}')"
   ]
  },
  {
   "cell_type": "markdown",
   "metadata": {},
   "source": [
    "### Binary AND`&` operator:\n",
    "copies a bit to the result if it exists in both operands"
   ]
  },
  {
   "cell_type": "code",
   "execution_count": 2,
   "metadata": {},
   "outputs": [
    {
     "name": "stdout",
     "output_type": "stream",
     "text": [
      "60 -> 0b111100\n",
      "13 -> 0b1101\n",
      "a & b 0b1100 -> 12\n"
     ]
    }
   ],
   "source": [
    "# e.g\n",
    "print(f'{a} -> {bin(a)}') #0011 1100 \n",
    "print(f'{b} -> {bin(b)}') #0000 1101\n",
    "\n",
    "c = a & b\n",
    "\n",
    "print(f'a & b {bin(c)} -> {c}')"
   ]
  },
  {
   "cell_type": "markdown",
   "metadata": {},
   "source": [
    "### Binary OR `|` operator \n",
    "It copies a bit if it exists in either operand."
   ]
  },
  {
   "cell_type": "code",
   "execution_count": 3,
   "metadata": {},
   "outputs": [
    {
     "name": "stdout",
     "output_type": "stream",
     "text": [
      "a = 60 -> 0b111100\n",
      "b = 13 -> 0b1101\n",
      "a | b 0b111101 -> 61\n"
     ]
    }
   ],
   "source": [
    "# e.g\n",
    "print(f'a = {a} -> {bin(a)}') #0011 1100 \n",
    "print(f'b = {b} -> {bin(b)}') #0000 1101\n",
    "\n",
    "c = a | b\n",
    "\n",
    "print(f'a | b {bin(c)} -> {c}')"
   ]
  },
  {
   "cell_type": "markdown",
   "metadata": {},
   "source": [
    "### `^` Binary XOR:\n",
    "It copies the bit if it is set in one operand but not both."
   ]
  },
  {
   "cell_type": "code",
   "execution_count": 4,
   "metadata": {},
   "outputs": [
    {
     "name": "stdout",
     "output_type": "stream",
     "text": [
      "a = 60 -> 0b111100\n",
      "b = 13 -> 0b1101\n",
      "a ^ b 0b110001 -> 49\n"
     ]
    }
   ],
   "source": [
    "# e.g\n",
    "print(f'a = {a} -> {bin(a)}') #0011 1100 \n",
    "print(f'b = {b} -> {bin(b)}') #0000 1101\n",
    "\n",
    "c = a ^ b\n",
    "\n",
    "print(f'a ^ b {bin(c)} -> {c}')"
   ]
  },
  {
   "cell_type": "markdown",
   "metadata": {},
   "source": [
    "### `~` Binary Ones Complement\n",
    "It is unary and has the effect of 'flipping' bits.\n",
    "\n",
    "The bitwise inversion of A is defined as -(A + 1). It only applies to integral numbers."
   ]
  },
  {
   "cell_type": "code",
   "execution_count": 5,
   "metadata": {},
   "outputs": [
    {
     "name": "stdout",
     "output_type": "stream",
     "text": [
      "a = 60 -> 0b111100\n",
      "~a -0b111101 -> -61\n"
     ]
    }
   ],
   "source": [
    "# e.g\n",
    "print(f'a = {a} -> {bin(a)}') #0011 1100 \n",
    "\n",
    "c = ~a\n",
    "\n",
    "print(f'~a {bin(c)} -> {c}')"
   ]
  },
  {
   "cell_type": "code",
   "execution_count": 6,
   "metadata": {},
   "outputs": [
    {
     "data": {
      "text/plain": [
       "'-0b11000100'"
      ]
     },
     "execution_count": 6,
     "metadata": {},
     "output_type": "execute_result"
    }
   ],
   "source": [
    "bin(~0b11000011)"
   ]
  },
  {
   "cell_type": "markdown",
   "metadata": {},
   "source": [
    "### `<<` Binary Left Shift\n",
    "The left operands value is moved left by the number of bits specified by the right operand."
   ]
  },
  {
   "cell_type": "code",
   "execution_count": 7,
   "metadata": {},
   "outputs": [
    {
     "data": {
      "text/plain": [
       "'0b1100'"
      ]
     },
     "execution_count": 7,
     "metadata": {},
     "output_type": "execute_result"
    }
   ],
   "source": [
    "bin(0b11 << 2)"
   ]
  },
  {
   "cell_type": "code",
   "execution_count": 8,
   "metadata": {},
   "outputs": [
    {
     "data": {
      "text/plain": [
       "'0b111111110000'"
      ]
     },
     "execution_count": 8,
     "metadata": {},
     "output_type": "execute_result"
    }
   ],
   "source": [
    "bin(0b11111111 << 4)"
   ]
  },
  {
   "cell_type": "code",
   "execution_count": 9,
   "metadata": {},
   "outputs": [
    {
     "name": "stdout",
     "output_type": "stream",
     "text": [
      "a = 60 <=> 0b111100\n",
      "(a << 2) = 240 <=> 0b11110000 \n"
     ]
    }
   ],
   "source": [
    "# e.g\n",
    "print(f'a = {a} <=> {bin(a)}') #0011 1100 \n",
    "\n",
    "c = a << 2\n",
    "\n",
    "print(f'(a << 2) = {c} <=> {bin(c)} ')"
   ]
  },
  {
   "cell_type": "markdown",
   "metadata": {},
   "source": [
    "### `>>` Binary Right Shift\n",
    "The left operands value is moved right by the number of bits specified by the right operand."
   ]
  },
  {
   "cell_type": "code",
   "execution_count": 10,
   "metadata": {},
   "outputs": [
    {
     "name": "stdout",
     "output_type": "stream",
     "text": [
      "a = 60 <=> 0b111100\n",
      "(a >> 2) = 15 <=> 0b1111 \n"
     ]
    }
   ],
   "source": [
    "# e.g\n",
    "print(f'a = {a} <=> {bin(a)}') #0011 1100 \n",
    "\n",
    "c = a >> 2\n",
    "\n",
    "print(f'(a >> 2) = {c} <=> {bin(c)} ')"
   ]
  },
  {
   "cell_type": "code",
   "execution_count": 12,
   "metadata": {},
   "outputs": [
    {
     "data": {
      "text/plain": [
       "'0b1'"
      ]
     },
     "execution_count": 12,
     "metadata": {},
     "output_type": "execute_result"
    }
   ],
   "source": [
    "bin(0b11111 >> 4)"
   ]
  },
  {
   "cell_type": "code",
   "execution_count": 17,
   "metadata": {},
   "outputs": [
    {
     "data": {
      "text/plain": [
       "32"
      ]
     },
     "execution_count": 17,
     "metadata": {},
     "output_type": "execute_result"
    }
   ],
   "source": [
    "len(bin(0xFFFFFFFF)) - 2"
   ]
  },
  {
   "cell_type": "code",
   "execution_count": null,
   "metadata": {},
   "outputs": [],
   "source": []
  }
 ],
 "metadata": {
  "kernelspec": {
   "display_name": "Python 3",
   "language": "python",
   "name": "python3"
  },
  "language_info": {
   "codemirror_mode": {
    "name": "ipython",
    "version": 3
   },
   "file_extension": ".py",
   "mimetype": "text/x-python",
   "name": "python",
   "nbconvert_exporter": "python",
   "pygments_lexer": "ipython3",
   "version": "3.6.5"
  }
 },
 "nbformat": 4,
 "nbformat_minor": 2
}
