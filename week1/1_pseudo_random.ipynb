{
 "cells": [
  {
   "cell_type": "markdown",
   "metadata": {},
   "source": [
    "### Linear congruential generator (LCG)\n",
    "\n",
    "$$Z_{i+1} = (aZ_i + c) \\mod m $$\n",
    "\n",
    "- The generator is fully defined given the parameters a, c and m\n",
    "- In addition, one needs the seed $Z_0$\n",
    "- The parameters must be chosen carefully; otherwise the sequence can be anything but\n",
    "random\n",
    "\n",
    "Hull-Dobell Theorem: The LCG will have a full period for all seeds if and only if\n",
    "- $c$ and $m$ are relatively prime,\n",
    "- $a-1$ is divisible by all prime factors of $m$ \n",
    "- $a-1$ is a multiple of 4 if $m$ is a multiple of 4. ($m$ of form $2^b$ and $a$ in the form of $4k+1, k > 0$ )"
   ]
  },
  {
   "cell_type": "code",
   "execution_count": 1,
   "metadata": {},
   "outputs": [],
   "source": [
    "# The LCG is typically coded to return z/m, a floating point number in (0, 1). \n",
    "# This can be scaled to any other range (a,b).\n",
    "\n",
    "# seed is the initial z_0\n",
    "def rng(m=2**32, a=1103515245, c=12345, seed=1):\n",
    "    if 'rng_current' not in globals():\n",
    "        global rng_current\n",
    "        rng_current = seed\n",
    "    rng_current = (a*rng_current + c) % m\n",
    "    return rng_current/m"
   ]
  },
  {
   "cell_type": "code",
   "execution_count": 2,
   "metadata": {},
   "outputs": [
    {
     "data": {
      "text/plain": [
       "[0.25693503906950355,\n",
       " 0.5878706516232342,\n",
       " 0.15432575810700655,\n",
       " 0.767266943352297,\n",
       " 0.9738139626570046,\n",
       " 0.5858681506942958,\n",
       " 0.8511155843734741,\n",
       " 0.6132153405342251,\n",
       " 0.7473867232911289,\n",
       " 0.06236015981994569]"
      ]
     },
     "execution_count": 2,
     "metadata": {},
     "output_type": "execute_result"
    }
   ],
   "source": [
    "[rng() for i in range(10)]"
   ]
  },
  {
   "cell_type": "markdown",
   "metadata": {},
   "source": [
    "### Multiplicative congruential generator (MCG)\n",
    "\n",
    "$$Z_{i+1} = (aZ_i) \\mod m $$\n",
    "\n",
    "- This is a special case of LCG with the choice c = 0\n",
    "- The algorithm is fully defined given the parameters $a$ and $m$\n",
    "- In addition, one needs the seed $Z_0$\n",
    "- By the choice $m = 2^b$ (with any $b$) the period is at most $2^{b-2}$\n",
    "\n",
    "In the best case the period can be m - 1\n",
    "- for instance when m is prime and a is chosen appropriately"
   ]
  },
  {
   "cell_type": "code",
   "execution_count": 3,
   "metadata": {},
   "outputs": [
    {
     "data": {
      "text/plain": [
       "[0.04194652731530368,\n",
       " 0.36724653630517423,\n",
       " 0.4862057368736714,\n",
       " 0.8465550427790731,\n",
       " 0.43833435396663845,\n",
       " 0.009411746403202415,\n",
       " 0.6380077812355012,\n",
       " 0.02200047648511827,\n",
       " 0.1985920264851302,\n",
       " 0.7617849314119667]"
      ]
     },
     "execution_count": 3,
     "metadata": {},
     "output_type": "execute_result"
    }
   ],
   "source": [
    "# just set c to be 0\n",
    "\n",
    "[rng(c=0) for i in range(10)]"
   ]
  },
  {
   "cell_type": "markdown",
   "metadata": {},
   "source": [
    "\\# todo mersenne twister"
   ]
  },
  {
   "cell_type": "code",
   "execution_count": null,
   "metadata": {},
   "outputs": [],
   "source": []
  },
  {
   "cell_type": "code",
   "execution_count": null,
   "metadata": {},
   "outputs": [],
   "source": []
  }
 ],
 "metadata": {
  "kernelspec": {
   "display_name": "Python 3",
   "language": "python",
   "name": "python3"
  },
  "language_info": {
   "codemirror_mode": {
    "name": "ipython",
    "version": 3
   },
   "file_extension": ".py",
   "mimetype": "text/x-python",
   "name": "python",
   "nbconvert_exporter": "python",
   "pygments_lexer": "ipython3",
   "version": "3.6.5"
  }
 },
 "nbformat": 4,
 "nbformat_minor": 2
}
